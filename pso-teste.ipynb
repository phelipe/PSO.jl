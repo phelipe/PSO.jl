{
 "cells": [
  {
   "cell_type": "code",
   "execution_count": 14,
   "metadata": {},
   "outputs": [
    {
     "name": "stderr",
     "output_type": "stream",
     "text": [
      "WARNING: replacing module PSO.\n"
     ]
    },
    {
     "data": {
      "text/plain": [
       "Main.PSO"
      ]
     },
     "execution_count": 14,
     "metadata": {},
     "output_type": "execute_result"
    }
   ],
   "source": [
    "include(\"src/PSO2.jl\")\n",
    "#using PSO"
   ]
  },
  {
   "cell_type": "code",
   "execution_count": 17,
   "metadata": {},
   "outputs": [
    {
     "data": {
      "text/plain": [
       "100-element Array{Array{Float64,1},1}:\n",
       " [-2.85266, -0.360903] \n",
       " [-2.85266, -0.360903] \n",
       " [-2.62099, -0.437866] \n",
       " [-2.63163, 0.00282794]\n",
       " [-2.7934, 1.12796]    \n",
       " [-2.50412, -0.322638] \n",
       " [-2.32596, -0.828393] \n",
       " [-2.7637, 1.8017]     \n",
       " [-2.38618, -0.0407283]\n",
       " [-2.90077, 3.33818]   \n",
       " [0.546732, 5.82987]   \n",
       " [-2.98073, 5.08156]   \n",
       " [-0.522736, 5.54281]  \n",
       " ⋮                     \n",
       " [0.257258, 1.22899]   \n",
       " [1.77613, 4.26082]    \n",
       " [1.71642, 3.88932]    \n",
       " [0.359193, 0.983573]  \n",
       " [0.589902, 1.30524]   \n",
       " [0.244434, 0.674111]  \n",
       " [0.460954, -0.594753] \n",
       " [1.51293, 1.77079]    \n",
       " [0.63871, 0.894208]   \n",
       " [1.38516, 2.31784]    \n",
       " [0.858442, 1.20663]   \n",
       " [-2.85266, -0.360903] "
      ]
     },
     "execution_count": 17,
     "metadata": {},
     "output_type": "execute_result"
    }
   ],
   "source": [
    "function myfunc(x)\n",
    "    x1, x2 = x[1], x[2]\n",
    "    return x1^4 - 2*x2*x1^2 + x2^2 + x1^2 - 2*x1 + 5\n",
    "end\n",
    "\n",
    "lb = [-3.0, -1.0]\n",
    "ub = [2.0, 6.0]\n",
    "PSO.pso(myfunc, lb, ub, neighborhood = PSO.findBestLocal)"
   ]
  },
  {
   "cell_type": "code",
   "execution_count": null,
   "metadata": {},
   "outputs": [],
   "source": []
  },
  {
   "cell_type": "code",
   "execution_count": null,
   "metadata": {},
   "outputs": [],
   "source": []
  },
  {
   "cell_type": "code",
   "execution_count": null,
   "metadata": {},
   "outputs": [],
   "source": []
  }
 ],
 "metadata": {
  "kernelspec": {
   "display_name": "Julia 1.0.0",
   "language": "julia",
   "name": "julia-1.0"
  },
  "language_info": {
   "file_extension": ".jl",
   "mimetype": "application/julia",
   "name": "julia",
   "version": "1.0.0"
  }
 },
 "nbformat": 4,
 "nbformat_minor": 2
}
