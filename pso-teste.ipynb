{
 "cells": [
  {
   "cell_type": "code",
   "execution_count": 14,
   "metadata": {},
   "outputs": [
    {
     "name": "stderr",
     "output_type": "stream",
     "text": [
      "WARNING: replacing module PSO.\n"
     ]
    }
   ],
   "source": [
    "include(\"src/PSO2.jl\")\n",
    "#using PSO"
   ]
  },
  {
   "cell_type": "code",
   "execution_count": 82,
   "metadata": {},
   "outputs": [
    {
     "data": {
      "text/plain": [
       "2-element Array{Float64,1}:\n",
       " 10.0\n",
       " 10.0"
      ]
     },
     "execution_count": 82,
     "metadata": {},
     "output_type": "execute_result"
    }
   ],
   "source": [
    "function myfunc(x::Vector)\n",
    "    x1, x2 = x[1], x[2]\n",
    "    return x1^4 - 2*x2*x1^2 + x2^2 + x1^2 - 2*x1 + 5\n",
    "end\n",
    "\n",
    "# minimum(1,1)\n",
    "function teste3(x::Vector)\n",
    "    (9. * (x[1])^2 + 2. * (x[2])^2 - 11.)^2 + ( 3. *x[1] + 4. * (x[2])^2 - 7. )^2\n",
    "end\n",
    "\n",
    "function teste4(x::Vector)\n",
    "    (9. * (x[1])^2 + 2. * (x[2])^2 - 11.)^2 + ( 3. *x[1] + 4. * (x[2])^2 - 7. )^2\n",
    "end\n",
    "\n",
    "lb = [0.0, 0.0]\n",
    "ub = [10.0, 10.0]\n"
   ]
  },
  {
   "cell_type": "code",
   "execution_count": 90,
   "metadata": {},
   "outputs": [
    {
     "name": "stdout",
     "output_type": "stream",
     "text": [
      "No constraints given.\n",
      " Iteration : 100/100 | best-iteration 7 | Best value: 0.9728498259804781 \n",
      " Stopping search: maximum iterations reached --> 100\n",
      "  0.163101 seconds (444.66 k allocations: 156.328 MiB, 15.07% gc time)\n"
     ]
    },
    {
     "data": {
      "text/plain": [
       "([1.0217, 0.859763], 0.9728498259804781)"
      ]
     },
     "execution_count": 90,
     "metadata": {},
     "output_type": "execute_result"
    }
   ],
   "source": [
    "@time PSO.pso(teste3, lb, ub, neighborhood = PSO.findBestLocal, n = 8, swarmsize=100, verbose = true, maxiter=100,)"
   ]
  },
  {
   "cell_type": "code",
   "execution_count": 89,
   "metadata": {},
   "outputs": [
    {
     "name": "stdout",
     "output_type": "stream",
     "text": [
      "No constraints given.\n",
      " Iteration : 100/100 | best-iteration 1 | Best value: 0.0\n",
      " Stopping search: maximum iterations reached --> 100\n",
      "  0.175437 seconds (455.00 k allocations: 157.221 MiB, 15.09% gc time)\n"
     ]
    },
    {
     "data": {
      "text/plain": [
       "([1.0, 1.0], 0.0)"
      ]
     },
     "execution_count": 89,
     "metadata": {},
     "output_type": "execute_result"
    }
   ],
   "source": [
    "@time PSO.psoInt(teste3, lb, ub, neighborhood = PSO.findBestLocal, n = 8, swarmsize=100, verbose = true, maxiter=100,)"
   ]
  },
  {
   "cell_type": "code",
   "execution_count": null,
   "metadata": {},
   "outputs": [],
   "source": []
  },
  {
   "cell_type": "code",
   "execution_count": null,
   "metadata": {},
   "outputs": [],
   "source": []
  },
  {
   "cell_type": "code",
   "execution_count": null,
   "metadata": {},
   "outputs": [],
   "source": []
  }
 ],
 "metadata": {
  "kernelspec": {
   "display_name": "Julia 1.0.0",
   "language": "julia",
   "name": "julia-1.0"
  },
  "language_info": {
   "file_extension": ".jl",
   "mimetype": "application/julia",
   "name": "julia",
   "version": "1.0.0"
  }
 },
 "nbformat": 4,
 "nbformat_minor": 2
}
