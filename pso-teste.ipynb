{
 "cells": [
  {
   "cell_type": "code",
   "execution_count": 129,
   "metadata": {},
   "outputs": [
    {
     "name": "stderr",
     "output_type": "stream",
     "text": [
      "WARNING: replacing module PSO.\n"
     ]
    }
   ],
   "source": [
    "include(\"src/PSO2.jl\")\n",
    "#using PSO"
   ]
  },
  {
   "cell_type": "code",
   "execution_count": 130,
   "metadata": {},
   "outputs": [],
   "source": [
    "function myfunc(x::Vector)\n",
    "    x1, x2 = x[1], x[2]\n",
    "    return x1^4 - 2*x2*x1^2 + x2^2 + x1^2 - 2*x1 + 5\n",
    "end\n",
    "\n",
    "# minimum(1,1)\n",
    "function teste3(x::Vector)\n",
    "    (9. * (x[1])^2 + 2. * (x[2])^2 - 11.)^2 + ( 3. *x[1] + 4. * (x[2])^2 - 7. )^2\n",
    "end\n",
    "\n",
    "#minimo (1,1)\n",
    "function teste4(x::Vector)\n",
    "    (9. * (x[1])^2 + 2. * (x[2])^2 - 11.)^2 + ( 3. *x[1] + 4. * (x[2])^2 - 7. )^2\n",
    "end\n",
    "\n",
    "#mínimo em 0,0\n",
    "function teste5(x::Vector)\n",
    "    sum(x.^2)\n",
    "end    \n",
    "\n",
    "#mínimo em 0,0\n",
    "function teste6(x::Vector)\n",
    "    10* length(x) + sum(map(x-> x^2 - 10. * cos(2. * pi * x ),x))\n",
    "end    \n",
    "\n",
    "lb = [-5.0, -5.0, -5.0]\n",
    "ub = [5.0, 5.0, 5.0];\n"
   ]
  },
  {
   "cell_type": "code",
   "execution_count": 135,
   "metadata": {},
   "outputs": [
    {
     "name": "stdout",
     "output_type": "stream",
     "text": [
      "No constraints given.\n",
      " Iteration : 400/400 | best-iteration 5 | Best value: 0.013942869821080705 \n",
      " Stopping search: maximum iterations reached --> 400\n",
      "  2.687574 seconds (7.02 M allocations: 2.473 GiB, 19.45% gc time)\n"
     ]
    },
    {
     "data": {
      "text/plain": [
       "([0.025503, 0.112495, 0.0252454], 0.013942869821080705)"
      ]
     },
     "execution_count": 135,
     "metadata": {},
     "output_type": "execute_result"
    }
   ],
   "source": [
    "@time PSO.pso(teste5, lb, ub, neighborhood = PSO.findBestLocal, n = 40, swarmsize=400, verbose = true, maxiter=400,)"
   ]
  },
  {
   "cell_type": "code",
   "execution_count": 136,
   "metadata": {},
   "outputs": [
    {
     "name": "stdout",
     "output_type": "stream",
     "text": [
      "No constraints given.\n",
      " Iteration : 400/400 | best-iteration 8 | Best value: 1.0\n",
      " Stopping search: maximum iterations reached --> 400\n",
      "  2.708668 seconds (7.34 M allocations: 2.507 GiB, 19.45% gc time)\n"
     ]
    },
    {
     "data": {
      "text/plain": [
       "([1.0, 0.0, 0.0], 1.0)"
      ]
     },
     "execution_count": 136,
     "metadata": {},
     "output_type": "execute_result"
    }
   ],
   "source": [
    "@time PSO.psoInt(teste5, lb, ub, neighborhood = PSO.findBestLocal, n = 40, swarmsize=400, verbose = true, maxiter=400,)"
   ]
  },
  {
   "cell_type": "code",
   "execution_count": null,
   "metadata": {},
   "outputs": [],
   "source": []
  },
  {
   "cell_type": "code",
   "execution_count": null,
   "metadata": {},
   "outputs": [],
   "source": []
  },
  {
   "cell_type": "code",
   "execution_count": null,
   "metadata": {},
   "outputs": [],
   "source": []
  }
 ],
 "metadata": {
  "kernelspec": {
   "display_name": "Julia 1.0.0",
   "language": "julia",
   "name": "julia-1.0"
  },
  "language_info": {
   "file_extension": ".jl",
   "mimetype": "application/julia",
   "name": "julia",
   "version": "1.0.0"
  }
 },
 "nbformat": 4,
 "nbformat_minor": 2
}
