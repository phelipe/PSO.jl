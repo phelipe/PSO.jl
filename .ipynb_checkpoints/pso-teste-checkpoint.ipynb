{
 "cells": [
  {
   "cell_type": "code",
   "execution_count": 37,
   "metadata": {},
   "outputs": [
    {
     "name": "stderr",
     "output_type": "stream",
     "text": [
      "WARNING: replacing module PSO.\n"
     ]
    },
    {
     "data": {
      "text/plain": [
       "Main.PSO"
      ]
     },
     "execution_count": 37,
     "metadata": {},
     "output_type": "execute_result"
    }
   ],
   "source": [
    "include(\"src/PSO2.jl\")\n",
    "#using PSO"
   ]
  },
  {
   "cell_type": "code",
   "execution_count": 84,
   "metadata": {},
   "outputs": [
    {
     "name": "stdout",
     "output_type": "stream",
     "text": [
      "Stopping search: maximum iterations reached --> 100\n",
      "The optimum is at:\n",
      "    [0.929873, 0.871944]\n",
      "Optimal function value:\n",
      "    myfunc: 4.0049707236469745\n"
     ]
    }
   ],
   "source": [
    "function myfunc(x::Vector)\n",
    "    x1, x2 = x[1], x[2]\n",
    "    return x1^4 - 2*x2*x1^2 + x2^2 + x1^2 - 2*x1 + 5\n",
    "end\n",
    "\n",
    "lb = [-3.0, -1.0]\n",
    "ub = [2.0, 6.0]\n",
    "\n",
    "xopt1, fopt1 = PSO.pso(myfunc, lb, ub, neighborhood = PSO.findBestLocal, n = 8, swarmsize=100)\n",
    "x, y = xopt1\n",
    "println(\"The optimum is at:\")\n",
    "println(\"    $(xopt1)\")\n",
    "println(\"Optimal function value:\")\n",
    "println(\"    myfunc: $(fopt1)\")\n"
   ]
  },
  {
   "cell_type": "code",
   "execution_count": null,
   "metadata": {},
   "outputs": [],
   "source": []
  },
  {
   "cell_type": "code",
   "execution_count": null,
   "metadata": {},
   "outputs": [],
   "source": []
  },
  {
   "cell_type": "code",
   "execution_count": null,
   "metadata": {},
   "outputs": [],
   "source": []
  },
  {
   "cell_type": "code",
   "execution_count": null,
   "metadata": {},
   "outputs": [],
   "source": []
  },
  {
   "cell_type": "code",
   "execution_count": null,
   "metadata": {},
   "outputs": [],
   "source": []
  }
 ],
 "metadata": {
  "kernelspec": {
   "display_name": "Julia 1.0.0",
   "language": "julia",
   "name": "julia-1.0"
  },
  "language_info": {
   "file_extension": ".jl",
   "mimetype": "application/julia",
   "name": "julia",
   "version": "1.0.0"
  }
 },
 "nbformat": 4,
 "nbformat_minor": 2
}
